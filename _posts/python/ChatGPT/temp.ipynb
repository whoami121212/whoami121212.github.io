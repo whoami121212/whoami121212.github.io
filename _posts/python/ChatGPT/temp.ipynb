{
 "cells": [
  {
   "attachments": {},
   "cell_type": "markdown",
   "metadata": {},
   "source": [
    "## ChatGpt Automation test Codes\n",
    "### 모두를 위한 ChatGpt Part2 - Numpy & Pandas"
   ]
  },
  {
   "cell_type": "code",
   "execution_count": 56,
   "metadata": {},
   "outputs": [
    {
     "name": "stdout",
     "output_type": "stream",
     "text": [
      "[[1 2 3 4]\n",
      " [5 6 7 8]]\n",
      "(2, 4)\n"
     ]
    }
   ],
   "source": [
    "import numpy as np\n",
    "\n",
    "array_1dimension = np.array([1, 2, 3, 4])\n",
    "\n",
    "array_2dimension = np.array([[1,2,3,4], [5,6,7,8]])\n",
    "\n",
    "array_3dimension = np.array([[[1,2,3,4], [5,6,7,8]], [[9, 10, 11, 12], [13, 14, 15, 16]]])\n",
    "# 3차원 배열과 shape을 출력. \n",
    "print(array_2dimension)\n",
    "print(array_2dimension.shape)"
   ]
  },
  {
   "cell_type": "code",
   "execution_count": 44,
   "metadata": {},
   "outputs": [
    {
     "data": {
      "text/plain": [
       "array([[ 1.03,  0.35,  1.55, -1.57],\n",
       "       [-0.91,  1.3 ,  0.83,  0.71],\n",
       "       [-1.74,  1.23,  0.6 ,  0.98],\n",
       "       [-0.75, -0.7 , -0.62, -0.96]])"
      ]
     },
     "execution_count": 44,
     "metadata": {},
     "output_type": "execute_result"
    }
   ],
   "source": [
    "# 0 / 1/ random 으로 채운 array 만들기 \n",
    "zeros = np.zeros([18])\n",
    "ones = np.ones([18, 2])\n",
    "randoms = np.random.randn(4,4).round(2)\n",
    "randoms"
   ]
  },
  {
   "attachments": {},
   "cell_type": "markdown",
   "metadata": {},
   "source": [
    "#### indexing & slicing\n",
    "다차원 배열의 경우 indexing과 slicing을 섞어서 원하는 요소에 접근할 수 있음 "
   ]
  },
  {
   "cell_type": "code",
   "execution_count": 48,
   "metadata": {},
   "outputs": [
    {
     "data": {
      "text/plain": [
       "array([0.35, 1.55])"
      ]
     },
     "execution_count": 48,
     "metadata": {},
     "output_type": "execute_result"
    }
   ],
   "source": [
    "randoms[0, 1]\n",
    "randoms[0][1]\n",
    "randoms[0][1:3]"
   ]
  },
  {
   "attachments": {},
   "cell_type": "markdown",
   "metadata": {},
   "source": [
    "#### broadcasting & aggregation \n",
    "broadcasting : 사칙연산 시 전체 원소에 동일하게 적용 \n",
    "aggregation : sum, mean(평균), prod(곱), max, min, argmax(max위치), argmin(min위치) "
   ]
  },
  {
   "cell_type": "code",
   "execution_count": 50,
   "metadata": {},
   "outputs": [
    {
     "data": {
      "text/plain": [
       "(10, 2.5, 24, 4, 1, 3, 0)"
      ]
     },
     "execution_count": 50,
     "metadata": {},
     "output_type": "execute_result"
    }
   ],
   "source": [
    "array_1dimension.sum(), array_1dimension.mean(), array_1dimension.prod(), array_1dimension.max(), array_1dimension.min(), array_1dimension.argmax(), array_1dimension.argmin()"
   ]
  },
  {
   "cell_type": "code",
   "execution_count": 55,
   "metadata": {},
   "outputs": [
    {
     "data": {
      "text/plain": [
       "(array([ 6,  8, 10, 12]), array([10, 26]))"
      ]
     },
     "execution_count": 55,
     "metadata": {},
     "output_type": "execute_result"
    }
   ],
   "source": [
    "array_2dimension.sum(axis=0), array_2dimension.sum(axis=1)"
   ]
  }
 ],
 "metadata": {
  "kernelspec": {
   "display_name": "venv1",
   "language": "python",
   "name": "python3"
  },
  "language_info": {
   "codemirror_mode": {
    "name": "ipython",
    "version": 3
   },
   "file_extension": ".py",
   "mimetype": "text/x-python",
   "name": "python",
   "nbconvert_exporter": "python",
   "pygments_lexer": "ipython3",
   "version": "3.10.5"
  },
  "orig_nbformat": 4
 },
 "nbformat": 4,
 "nbformat_minor": 2
}
